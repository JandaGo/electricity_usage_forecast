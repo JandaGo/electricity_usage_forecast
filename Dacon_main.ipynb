{
 "cells": [
  {
   "cell_type": "code",
   "execution_count": 1,
   "metadata": {},
   "outputs": [],
   "source": [
    "import numpy as np\n",
    "import pandas as pd\n",
    "import os\n",
    "\n",
    "import matplotlib.pyplot as plt\n",
    "import seaborn as sns\n",
    "from datetime import datetime\n",
    "\n",
    "import warnings\n",
    "\n",
    "#hourly_smp data는 시간형식이 일반적인 형태와는 다르게 되어있음\n",
    "#이를 위해 따로 date_time_split_2를 제작\n",
    "from processing import date_time_split_1\n",
    "from processing import date_time_split_2\n",
    "\n",
    "warnings.filterwarnings(action = 'ignore')\n",
    "pd.set_option('display.max_columns', 500)\n",
    "%matplotlib inline"
   ]
  },
  {
   "cell_type": "markdown",
   "metadata": {},
   "source": [
    "# 1. Data Load"
   ]
  },
  {
   "cell_type": "code",
   "execution_count": 2,
   "metadata": {},
   "outputs": [],
   "source": [
    "target_original = pd.read_csv('data/target_v1.csv')\n",
    "weather_original = pd.read_csv('data/weather_v1.csv')\n",
    "hourly_smp_original = pd.read_csv('data/hourly_smp_v1.csv')\n",
    "\n",
    "target = target_original.copy()\n",
    "weather = weather_original.copy()\n",
    "hourly_smp = hourly_smp_original.copy()"
   ]
  },
  {
   "cell_type": "code",
   "execution_count": 3,
   "metadata": {},
   "outputs": [],
   "source": [
    "oil_price_cl_original = pd.read_csv('result/oil_price_cl.csv')\n",
    "oil_price_du_original = pd.read_csv('result/oil_price_du.csv')\n",
    "oil_price_brt_original = pd.read_csv('result/oil_price_brt.csv')\n",
    "\n",
    "oil_price_cl = oil_price_cl_original.copy()\n",
    "oil_price_du = oil_price_du_original.copy()\n",
    "oil_price_brt = oil_price_brt_original.copy()"
   ]
  },
  {
   "cell_type": "markdown",
   "metadata": {},
   "source": [
    "## area column이 여러개 존재\n",
    "### 가장 null값이 적은 area를 선택"
   ]
  },
  {
   "cell_type": "code",
   "execution_count": 4,
   "metadata": {
    "scrolled": true
   },
   "outputs": [
    {
     "name": "stdout",
     "output_type": "stream",
     "text": [
      "184 total shape : 17518\n",
      "184 null shape : 2\n",
      "185 total shape : 17512\n",
      "185 null shape : 20\n",
      "188 total shape : 17518\n",
      "188 null shape : 7\n",
      "189 total shape : 17516\n",
      "189 null shape : 11\n",
      "328 total shape : 17488\n",
      "328 null shape : 72\n",
      "329 total shape : 17514\n",
      "329 null shape : 5\n",
      "330 total shape : 17432\n",
      "330 null shape : 4\n",
      "724 total shape : 17423\n",
      "724 null shape : 7\n",
      "725 total shape : 17469\n",
      "725 null shape : 11\n",
      "726 total shape : 17392\n",
      "726 null shape : 108\n",
      "727 total shape : 17517\n",
      "727 null shape : 4\n",
      "751 total shape : 17438\n",
      "751 null shape : 12\n",
      "752 total shape : 17518\n",
      "752 null shape : 21\n",
      "753 total shape : 17287\n",
      "753 null shape : 15\n",
      "779 total shape : 17518\n",
      "779 null shape : 3\n",
      "780 total shape : 17244\n",
      "780 null shape : 53\n",
      "781 total shape : 17399\n",
      "781 null shape : 22\n",
      "782 total shape : 17515\n",
      "782 null shape : 3\n",
      "792 total shape : 17514\n",
      "792 null shape : 9\n",
      "793 total shape : 17467\n",
      "793 null shape : 132\n",
      "855 total shape : 17448\n",
      "855 null shape : 503\n",
      "861 total shape : 17510\n",
      "861 null shape : 3\n",
      "862 total shape : 17005\n",
      "862 null shape : 772\n",
      "863 total shape : 17509\n",
      "863 null shape : 6\n",
      "865 total shape : 17487\n",
      "865 null shape : 20\n",
      "866 total shape : 17271\n",
      "866 null shape : 13\n",
      "867 total shape : 16930\n",
      "867 null shape : 20\n",
      "868 total shape : 17029\n",
      "868 null shape : 7\n",
      "869 total shape : 17323\n",
      "869 null shape : 6\n",
      "870 total shape : 17040\n",
      "870 null shape : 14\n",
      "871 total shape : 17415\n",
      "871 null shape : 1414\n",
      "880 total shape : 17506\n",
      "880 null shape : 10\n",
      "883 total shape : 17495\n",
      "883 null shape : 9\n",
      "884 total shape : 17518\n",
      "884 null shape : 1\n",
      "885 total shape : 17340\n",
      "885 null shape : 10\n",
      "890 total shape : 17324\n",
      "890 null shape : 9\n",
      "891 total shape : 12895\n",
      "891 null shape : 2\n",
      "892 total shape : 5398\n",
      "892 null shape : 1\n",
      "893 total shape : 4210\n",
      "893 null shape : 4\n"
     ]
    }
   ],
   "source": [
    "area_list = weather['area'].unique()\n",
    "for ls in area_list :\n",
    "    null_temp  = weather[weather['area'] == ls]['temp'].isnull().sum()\n",
    "    print('{} total shape : {}'.format(ls, len(weather[weather['area'] == ls]['temp'])))\n",
    "    print('{} null shape : {}'.format(ls, null_temp))"
   ]
  },
  {
   "cell_type": "markdown",
   "metadata": {},
   "source": [
    "**daily smp data 수집 기간**  \n",
    "**2018년 2월 1일 ~ 2020년 1월 31일**"
   ]
  },
  {
   "cell_type": "markdown",
   "metadata": {},
   "source": [
    "**데이터 분석 결과 온도를 제외하고는 날씨 데이터에서는 유의미한 변수가 없는것으로 판단**  \n",
    "**weather data 에서는 temp column만을 추출**"
   ]
  },
  {
   "cell_type": "markdown",
   "metadata": {},
   "source": [
    "**oil data 수집기간**  \n",
    "**2006년 4월 18일 ~ 2020년 5월 11일(주말 제외)**"
   ]
  },
  {
   "cell_type": "markdown",
   "metadata": {},
   "source": [
    "# 2. EDA"
   ]
  },
  {
   "cell_type": "markdown",
   "metadata": {},
   "source": [
    "## 형식이 유사한 weather와 hourly_smp data 먼저 통합"
   ]
  },
  {
   "cell_type": "markdown",
   "metadata": {},
   "source": [
    "### weather dataset을 비롯한 모든 데이터의 필요없는 column을 drop하고 변수명을 변환"
   ]
  },
  {
   "cell_type": "code",
   "execution_count": 5,
   "metadata": {},
   "outputs": [],
   "source": [
    "weather = weather[weather['area'] == 884]\n",
    "weather = weather.iloc[:, 1:3]\n",
    "weather.reset_index(drop = True, inplace = True)\n",
    "weather.columns = ['date', 'temp']\n",
    "weather = date_time_split_1(weather)"
   ]
  },
  {
   "cell_type": "code",
   "execution_count": 6,
   "metadata": {},
   "outputs": [],
   "source": [
    "hourly_smp.columns = ['dates', 'smp']\n",
    "hourly_smp = date_time_split_2(hourly_smp)"
   ]
  },
  {
   "cell_type": "code",
   "execution_count": 7,
   "metadata": {},
   "outputs": [
    {
     "data": {
      "text/html": [
       "<div>\n",
       "<style scoped>\n",
       "    .dataframe tbody tr th:only-of-type {\n",
       "        vertical-align: middle;\n",
       "    }\n",
       "\n",
       "    .dataframe tbody tr th {\n",
       "        vertical-align: top;\n",
       "    }\n",
       "\n",
       "    .dataframe thead th {\n",
       "        text-align: right;\n",
       "    }\n",
       "</style>\n",
       "<table border=\"1\" class=\"dataframe\">\n",
       "  <thead>\n",
       "    <tr style=\"text-align: right;\">\n",
       "      <th></th>\n",
       "      <th>temp</th>\n",
       "      <th>year</th>\n",
       "      <th>month</th>\n",
       "      <th>day</th>\n",
       "      <th>weekday</th>\n",
       "      <th>hour</th>\n",
       "    </tr>\n",
       "  </thead>\n",
       "  <tbody>\n",
       "    <tr>\n",
       "      <th>0</th>\n",
       "      <td>3.3</td>\n",
       "      <td>2018</td>\n",
       "      <td>2</td>\n",
       "      <td>1</td>\n",
       "      <td>3</td>\n",
       "      <td>1</td>\n",
       "    </tr>\n",
       "    <tr>\n",
       "      <th>1</th>\n",
       "      <td>2.2</td>\n",
       "      <td>2018</td>\n",
       "      <td>2</td>\n",
       "      <td>1</td>\n",
       "      <td>3</td>\n",
       "      <td>2</td>\n",
       "    </tr>\n",
       "    <tr>\n",
       "      <th>2</th>\n",
       "      <td>3.8</td>\n",
       "      <td>2018</td>\n",
       "      <td>2</td>\n",
       "      <td>1</td>\n",
       "      <td>3</td>\n",
       "      <td>3</td>\n",
       "    </tr>\n",
       "    <tr>\n",
       "      <th>3</th>\n",
       "      <td>0.7</td>\n",
       "      <td>2018</td>\n",
       "      <td>2</td>\n",
       "      <td>1</td>\n",
       "      <td>3</td>\n",
       "      <td>4</td>\n",
       "    </tr>\n",
       "    <tr>\n",
       "      <th>4</th>\n",
       "      <td>2.4</td>\n",
       "      <td>2018</td>\n",
       "      <td>2</td>\n",
       "      <td>1</td>\n",
       "      <td>3</td>\n",
       "      <td>5</td>\n",
       "    </tr>\n",
       "  </tbody>\n",
       "</table>\n",
       "</div>"
      ],
      "text/plain": [
       "   temp  year  month  day  weekday  hour\n",
       "0   3.3  2018      2    1        3     1\n",
       "1   2.2  2018      2    1        3     2\n",
       "2   3.8  2018      2    1        3     3\n",
       "3   0.7  2018      2    1        3     4\n",
       "4   2.4  2018      2    1        3     5"
      ]
     },
     "execution_count": 7,
     "metadata": {},
     "output_type": "execute_result"
    }
   ],
   "source": [
    "weather.head()"
   ]
  },
  {
   "cell_type": "code",
   "execution_count": 8,
   "metadata": {
    "scrolled": true
   },
   "outputs": [
    {
     "data": {
      "text/html": [
       "<div>\n",
       "<style scoped>\n",
       "    .dataframe tbody tr th:only-of-type {\n",
       "        vertical-align: middle;\n",
       "    }\n",
       "\n",
       "    .dataframe tbody tr th {\n",
       "        vertical-align: top;\n",
       "    }\n",
       "\n",
       "    .dataframe thead th {\n",
       "        text-align: right;\n",
       "    }\n",
       "</style>\n",
       "<table border=\"1\" class=\"dataframe\">\n",
       "  <thead>\n",
       "    <tr style=\"text-align: right;\">\n",
       "      <th></th>\n",
       "      <th>temp</th>\n",
       "      <th>year</th>\n",
       "      <th>month</th>\n",
       "      <th>day</th>\n",
       "      <th>weekday</th>\n",
       "      <th>hour</th>\n",
       "      <th>smp</th>\n",
       "    </tr>\n",
       "  </thead>\n",
       "  <tbody>\n",
       "    <tr>\n",
       "      <th>0</th>\n",
       "      <td>3.3</td>\n",
       "      <td>2018</td>\n",
       "      <td>2</td>\n",
       "      <td>1</td>\n",
       "      <td>3</td>\n",
       "      <td>1</td>\n",
       "      <td>116.84</td>\n",
       "    </tr>\n",
       "    <tr>\n",
       "      <th>1</th>\n",
       "      <td>2.2</td>\n",
       "      <td>2018</td>\n",
       "      <td>2</td>\n",
       "      <td>1</td>\n",
       "      <td>3</td>\n",
       "      <td>2</td>\n",
       "      <td>116.84</td>\n",
       "    </tr>\n",
       "    <tr>\n",
       "      <th>2</th>\n",
       "      <td>3.8</td>\n",
       "      <td>2018</td>\n",
       "      <td>2</td>\n",
       "      <td>1</td>\n",
       "      <td>3</td>\n",
       "      <td>3</td>\n",
       "      <td>116.84</td>\n",
       "    </tr>\n",
       "    <tr>\n",
       "      <th>3</th>\n",
       "      <td>0.7</td>\n",
       "      <td>2018</td>\n",
       "      <td>2</td>\n",
       "      <td>1</td>\n",
       "      <td>3</td>\n",
       "      <td>4</td>\n",
       "      <td>116.84</td>\n",
       "    </tr>\n",
       "    <tr>\n",
       "      <th>4</th>\n",
       "      <td>2.4</td>\n",
       "      <td>2018</td>\n",
       "      <td>2</td>\n",
       "      <td>1</td>\n",
       "      <td>3</td>\n",
       "      <td>5</td>\n",
       "      <td>116.84</td>\n",
       "    </tr>\n",
       "  </tbody>\n",
       "</table>\n",
       "</div>"
      ],
      "text/plain": [
       "   temp  year  month  day  weekday  hour     smp\n",
       "0   3.3  2018      2    1        3     1  116.84\n",
       "1   2.2  2018      2    1        3     2  116.84\n",
       "2   3.8  2018      2    1        3     3  116.84\n",
       "3   0.7  2018      2    1        3     4  116.84\n",
       "4   2.4  2018      2    1        3     5  116.84"
      ]
     },
     "execution_count": 8,
     "metadata": {},
     "output_type": "execute_result"
    }
   ],
   "source": [
    "weather_smp = pd.merge(weather, hourly_smp, on = ['year', 'month', 'day', 'weekday', 'hour'], how = 'outer')\n",
    "weather_smp.head()"
   ]
  },
  {
   "cell_type": "markdown",
   "metadata": {},
   "source": [
    "## 가장 형식이 차이나는 oil data를 이후 처리"
   ]
  },
  {
   "cell_type": "code",
   "execution_count": 9,
   "metadata": {},
   "outputs": [],
   "source": [
    "#oil_price에서 필요한 column(date, price)만을 추출하고 날짜 데이터를 풀어줌\n",
    "oil_price_cl = oil_price_cl.iloc[:, 1:3]\n",
    "oil_price_du = oil_price_du.iloc[:, 1:3]\n",
    "oil_price_brt = oil_price_brt.iloc[:, 1:3]\n",
    "\n",
    "oil_price_cl.columns = ['date', 'cl_price']\n",
    "oil_price_du.columns = ['date', 'du_price']\n",
    "oil_price_brt.columns = ['date', 'brt_price']"
   ]
  },
  {
   "cell_type": "markdown",
   "metadata": {},
   "source": [
    "### 각 table의 날짜 데이터를 date format으로 변환"
   ]
  },
  {
   "cell_type": "markdown",
   "metadata": {},
   "source": [
    "**2018년 2월 1일 이전의 데이터는 모두 drop**"
   ]
  },
  {
   "cell_type": "code",
   "execution_count": 10,
   "metadata": {},
   "outputs": [],
   "source": [
    "# target data의 날짜에 맞춰 sampling\n",
    "# oil의 가격은 3개월 이후의 smp에 영향을 미치므로 2017-11-02 이후의 데이터만을 sampling\n",
    "oil_price_du = oil_price_du[oil_price_du['date'] >= '2017-11-02'] \n",
    "oil_price_cl = oil_price_cl[oil_price_cl['date'] >= '2017-11-02']\n",
    "oil_price_brt = oil_price_brt[oil_price_brt['date'] >= '2017-11-02']\n",
    "\n",
    "oil_price_du = oil_price_du[oil_price_du['date'] <= '2019-11-02']\n",
    "oil_price_cl = oil_price_cl[oil_price_cl['date'] <= '2019-11-02']\n",
    "oil_price_brt = oil_price_brt[oil_price_brt['date'] <= '2019-11-02']\n",
    "\n",
    "oil_price_du.sort_values(by = ['date'], inplace = True)\n",
    "oil_price_cl.sort_values(by = ['date'], inplace = True)\n",
    "oil_price_brt.sort_values(by = ['date'], inplace = True)"
   ]
  },
  {
   "cell_type": "code",
   "execution_count": 11,
   "metadata": {},
   "outputs": [],
   "source": [
    "# time data를 만들기 위해 각 데이터별 날짜의 최대 최솟값을 저장해둠\n",
    "period = pd.date_range(start = oil_price_du.date.min(), end = oil_price_du.date.max())\n",
    "\n",
    "oil_price_du.reset_index(drop = True, inplace = True)\n",
    "oil_price_cl.reset_index(drop = True, inplace = True)\n",
    "oil_price_brt.reset_index(drop = True, inplace = True)\n",
    "\n",
    "oil_price_cl = date_time_split_1(oil_price_cl)\n",
    "oil_price_du = date_time_split_1(oil_price_du)\n",
    "oil_price_brt = date_time_split_1(oil_price_brt)"
   ]
  },
  {
   "cell_type": "code",
   "execution_count": 12,
   "metadata": {},
   "outputs": [],
   "source": [
    "time_data = pd.DataFrame({'date' : period})\n",
    "time_data = date_time_split_1(time_data)"
   ]
  },
  {
   "cell_type": "code",
   "execution_count": 13,
   "metadata": {
    "scrolled": true
   },
   "outputs": [
    {
     "data": {
      "text/html": [
       "<div>\n",
       "<style scoped>\n",
       "    .dataframe tbody tr th:only-of-type {\n",
       "        vertical-align: middle;\n",
       "    }\n",
       "\n",
       "    .dataframe tbody tr th {\n",
       "        vertical-align: top;\n",
       "    }\n",
       "\n",
       "    .dataframe thead th {\n",
       "        text-align: right;\n",
       "    }\n",
       "</style>\n",
       "<table border=\"1\" class=\"dataframe\">\n",
       "  <thead>\n",
       "    <tr style=\"text-align: right;\">\n",
       "      <th></th>\n",
       "      <th>year</th>\n",
       "      <th>month</th>\n",
       "      <th>day</th>\n",
       "      <th>weekday</th>\n",
       "      <th>hour</th>\n",
       "      <th>du_price</th>\n",
       "      <th>cl_price</th>\n",
       "      <th>brt_price</th>\n",
       "    </tr>\n",
       "  </thead>\n",
       "  <tbody>\n",
       "    <tr>\n",
       "      <th>0</th>\n",
       "      <td>2017</td>\n",
       "      <td>11</td>\n",
       "      <td>2</td>\n",
       "      <td>3</td>\n",
       "      <td>0</td>\n",
       "      <td>58.87</td>\n",
       "      <td>54.54</td>\n",
       "      <td>60.62</td>\n",
       "    </tr>\n",
       "    <tr>\n",
       "      <th>1</th>\n",
       "      <td>2017</td>\n",
       "      <td>11</td>\n",
       "      <td>3</td>\n",
       "      <td>4</td>\n",
       "      <td>0</td>\n",
       "      <td>60.15</td>\n",
       "      <td>55.64</td>\n",
       "      <td>62.07</td>\n",
       "    </tr>\n",
       "    <tr>\n",
       "      <th>2</th>\n",
       "      <td>2017</td>\n",
       "      <td>11</td>\n",
       "      <td>4</td>\n",
       "      <td>5</td>\n",
       "      <td>0</td>\n",
       "      <td>NaN</td>\n",
       "      <td>NaN</td>\n",
       "      <td>NaN</td>\n",
       "    </tr>\n",
       "    <tr>\n",
       "      <th>3</th>\n",
       "      <td>2017</td>\n",
       "      <td>11</td>\n",
       "      <td>5</td>\n",
       "      <td>6</td>\n",
       "      <td>0</td>\n",
       "      <td>NaN</td>\n",
       "      <td>NaN</td>\n",
       "      <td>NaN</td>\n",
       "    </tr>\n",
       "    <tr>\n",
       "      <th>4</th>\n",
       "      <td>2017</td>\n",
       "      <td>11</td>\n",
       "      <td>6</td>\n",
       "      <td>0</td>\n",
       "      <td>0</td>\n",
       "      <td>61.83</td>\n",
       "      <td>57.35</td>\n",
       "      <td>64.27</td>\n",
       "    </tr>\n",
       "  </tbody>\n",
       "</table>\n",
       "</div>"
      ],
      "text/plain": [
       "   year  month  day  weekday  hour  du_price  cl_price  brt_price\n",
       "0  2017     11    2        3     0     58.87     54.54      60.62\n",
       "1  2017     11    3        4     0     60.15     55.64      62.07\n",
       "2  2017     11    4        5     0       NaN       NaN        NaN\n",
       "3  2017     11    5        6     0       NaN       NaN        NaN\n",
       "4  2017     11    6        0     0     61.83     57.35      64.27"
      ]
     },
     "execution_count": 13,
     "metadata": {},
     "output_type": "execute_result"
    }
   ],
   "source": [
    "oil = pd.merge(left = time_data, right = oil_price_du, how = 'outer')\n",
    "oil = pd.merge(left = oil, right = oil_price_cl, how = 'outer')\n",
    "oil = pd.merge(left = oil, right = oil_price_brt, how = 'outer')\n",
    "oil.head()"
   ]
  },
  {
   "cell_type": "code",
   "execution_count": 14,
   "metadata": {},
   "outputs": [],
   "source": [
    "fillna = {'du_price' : oil.du_price.mean(), 'cl_price' : oil.cl_price.mean(), 'brt_price' : oil.brt_price.mean()}\n",
    "oil = oil.fillna(value = fillna)"
   ]
  },
  {
   "cell_type": "code",
   "execution_count": 15,
   "metadata": {
    "scrolled": true
   },
   "outputs": [],
   "source": [
    "oil_hour = pd.concat([oil]*24, ignore_index= True)\n",
    "oil_hour.sort_values(by = ['year', 'month', 'day'], inplace = True)\n",
    "oil_hour.reset_index(drop=True, inplace=True)"
   ]
  },
  {
   "cell_type": "code",
   "execution_count": 16,
   "metadata": {},
   "outputs": [
    {
     "data": {
      "text/html": [
       "<div>\n",
       "<style scoped>\n",
       "    .dataframe tbody tr th:only-of-type {\n",
       "        vertical-align: middle;\n",
       "    }\n",
       "\n",
       "    .dataframe tbody tr th {\n",
       "        vertical-align: top;\n",
       "    }\n",
       "\n",
       "    .dataframe thead th {\n",
       "        text-align: right;\n",
       "    }\n",
       "</style>\n",
       "<table border=\"1\" class=\"dataframe\">\n",
       "  <thead>\n",
       "    <tr style=\"text-align: right;\">\n",
       "      <th></th>\n",
       "      <th>du_price</th>\n",
       "      <th>cl_price</th>\n",
       "      <th>brt_price</th>\n",
       "    </tr>\n",
       "  </thead>\n",
       "  <tbody>\n",
       "    <tr>\n",
       "      <th>0</th>\n",
       "      <td>58.87</td>\n",
       "      <td>54.54</td>\n",
       "      <td>60.62</td>\n",
       "    </tr>\n",
       "    <tr>\n",
       "      <th>1</th>\n",
       "      <td>58.87</td>\n",
       "      <td>54.54</td>\n",
       "      <td>60.62</td>\n",
       "    </tr>\n",
       "    <tr>\n",
       "      <th>2</th>\n",
       "      <td>58.87</td>\n",
       "      <td>54.54</td>\n",
       "      <td>60.62</td>\n",
       "    </tr>\n",
       "    <tr>\n",
       "      <th>3</th>\n",
       "      <td>58.87</td>\n",
       "      <td>54.54</td>\n",
       "      <td>60.62</td>\n",
       "    </tr>\n",
       "    <tr>\n",
       "      <th>4</th>\n",
       "      <td>58.87</td>\n",
       "      <td>54.54</td>\n",
       "      <td>60.62</td>\n",
       "    </tr>\n",
       "  </tbody>\n",
       "</table>\n",
       "</div>"
      ],
      "text/plain": [
       "   du_price  cl_price  brt_price\n",
       "0     58.87     54.54      60.62\n",
       "1     58.87     54.54      60.62\n",
       "2     58.87     54.54      60.62\n",
       "3     58.87     54.54      60.62\n",
       "4     58.87     54.54      60.62"
      ]
     },
     "execution_count": 16,
     "metadata": {},
     "output_type": "execute_result"
    }
   ],
   "source": [
    "oil_hour = oil_hour.iloc[:, 5:]\n",
    "oil_hour.head()"
   ]
  },
  {
   "cell_type": "code",
   "execution_count": 17,
   "metadata": {},
   "outputs": [
    {
     "data": {
      "text/plain": [
       "(17520, 3)"
      ]
     },
     "execution_count": 17,
     "metadata": {},
     "output_type": "execute_result"
    }
   ],
   "source": [
    "oil_hour.shape"
   ]
  },
  {
   "cell_type": "markdown",
   "metadata": {},
   "source": [
    "### smp, supply, oil_pirce, weather를 합친 train 제작"
   ]
  },
  {
   "cell_type": "code",
   "execution_count": 30,
   "metadata": {
    "scrolled": true
   },
   "outputs": [],
   "source": [
    "train = pd.concat([weather_smp, oil_hour], axis = 1, join = 'outer')"
   ]
  },
  {
   "cell_type": "code",
   "execution_count": 31,
   "metadata": {},
   "outputs": [],
   "source": [
    "time = train['year'].astype(str) + '-' + train['month'].astype(str) + '-' + train['day'].astype(str)\n",
    "train['date'] = pd.to_datetime(time)"
   ]
  },
  {
   "cell_type": "code",
   "execution_count": 34,
   "metadata": {},
   "outputs": [],
   "source": [
    "train = train[['date', 'year', 'month', 'day', 'weekday', 'hour', 'temp', 'du_price', 'cl_price', 'brt_price', 'smp']]"
   ]
  },
  {
   "cell_type": "code",
   "execution_count": 35,
   "metadata": {},
   "outputs": [
    {
     "data": {
      "text/plain": [
       "(17520, 11)"
      ]
     },
     "execution_count": 35,
     "metadata": {},
     "output_type": "execute_result"
    }
   ],
   "source": [
    "train.shape"
   ]
  },
  {
   "cell_type": "code",
   "execution_count": 36,
   "metadata": {},
   "outputs": [
    {
     "data": {
      "text/html": [
       "<div>\n",
       "<style scoped>\n",
       "    .dataframe tbody tr th:only-of-type {\n",
       "        vertical-align: middle;\n",
       "    }\n",
       "\n",
       "    .dataframe tbody tr th {\n",
       "        vertical-align: top;\n",
       "    }\n",
       "\n",
       "    .dataframe thead th {\n",
       "        text-align: right;\n",
       "    }\n",
       "</style>\n",
       "<table border=\"1\" class=\"dataframe\">\n",
       "  <thead>\n",
       "    <tr style=\"text-align: right;\">\n",
       "      <th></th>\n",
       "      <th>date</th>\n",
       "      <th>year</th>\n",
       "      <th>month</th>\n",
       "      <th>day</th>\n",
       "      <th>weekday</th>\n",
       "      <th>hour</th>\n",
       "      <th>temp</th>\n",
       "      <th>du_price</th>\n",
       "      <th>cl_price</th>\n",
       "      <th>brt_price</th>\n",
       "      <th>smp</th>\n",
       "    </tr>\n",
       "  </thead>\n",
       "  <tbody>\n",
       "    <tr>\n",
       "      <th>0</th>\n",
       "      <td>2018-02-01</td>\n",
       "      <td>2018</td>\n",
       "      <td>2</td>\n",
       "      <td>1</td>\n",
       "      <td>3</td>\n",
       "      <td>1</td>\n",
       "      <td>3.3</td>\n",
       "      <td>58.87</td>\n",
       "      <td>54.54</td>\n",
       "      <td>60.62</td>\n",
       "      <td>116.84</td>\n",
       "    </tr>\n",
       "    <tr>\n",
       "      <th>1</th>\n",
       "      <td>2018-02-01</td>\n",
       "      <td>2018</td>\n",
       "      <td>2</td>\n",
       "      <td>1</td>\n",
       "      <td>3</td>\n",
       "      <td>2</td>\n",
       "      <td>2.2</td>\n",
       "      <td>58.87</td>\n",
       "      <td>54.54</td>\n",
       "      <td>60.62</td>\n",
       "      <td>116.84</td>\n",
       "    </tr>\n",
       "    <tr>\n",
       "      <th>2</th>\n",
       "      <td>2018-02-01</td>\n",
       "      <td>2018</td>\n",
       "      <td>2</td>\n",
       "      <td>1</td>\n",
       "      <td>3</td>\n",
       "      <td>3</td>\n",
       "      <td>3.8</td>\n",
       "      <td>58.87</td>\n",
       "      <td>54.54</td>\n",
       "      <td>60.62</td>\n",
       "      <td>116.84</td>\n",
       "    </tr>\n",
       "    <tr>\n",
       "      <th>3</th>\n",
       "      <td>2018-02-01</td>\n",
       "      <td>2018</td>\n",
       "      <td>2</td>\n",
       "      <td>1</td>\n",
       "      <td>3</td>\n",
       "      <td>4</td>\n",
       "      <td>0.7</td>\n",
       "      <td>58.87</td>\n",
       "      <td>54.54</td>\n",
       "      <td>60.62</td>\n",
       "      <td>116.84</td>\n",
       "    </tr>\n",
       "    <tr>\n",
       "      <th>4</th>\n",
       "      <td>2018-02-01</td>\n",
       "      <td>2018</td>\n",
       "      <td>2</td>\n",
       "      <td>1</td>\n",
       "      <td>3</td>\n",
       "      <td>5</td>\n",
       "      <td>2.4</td>\n",
       "      <td>58.87</td>\n",
       "      <td>54.54</td>\n",
       "      <td>60.62</td>\n",
       "      <td>116.84</td>\n",
       "    </tr>\n",
       "  </tbody>\n",
       "</table>\n",
       "</div>"
      ],
      "text/plain": [
       "        date  year  month  day  weekday  hour  temp  du_price  cl_price  \\\n",
       "0 2018-02-01  2018      2    1        3     1   3.3     58.87     54.54   \n",
       "1 2018-02-01  2018      2    1        3     2   2.2     58.87     54.54   \n",
       "2 2018-02-01  2018      2    1        3     3   3.8     58.87     54.54   \n",
       "3 2018-02-01  2018      2    1        3     4   0.7     58.87     54.54   \n",
       "4 2018-02-01  2018      2    1        3     5   2.4     58.87     54.54   \n",
       "\n",
       "   brt_price     smp  \n",
       "0      60.62  116.84  \n",
       "1      60.62  116.84  \n",
       "2      60.62  116.84  \n",
       "3      60.62  116.84  \n",
       "4      60.62  116.84  "
      ]
     },
     "execution_count": 36,
     "metadata": {},
     "output_type": "execute_result"
    }
   ],
   "source": [
    "train.head()"
   ]
  },
  {
   "cell_type": "markdown",
   "metadata": {},
   "source": [
    "## train data의 feature간 상관관계 분석"
   ]
  },
  {
   "cell_type": "code",
   "execution_count": 20,
   "metadata": {},
   "outputs": [
    {
     "data": {
      "text/plain": [
       "<matplotlib.axes._subplots.AxesSubplot at 0x7fb979cbf1c0>"
      ]
     },
     "execution_count": 20,
     "metadata": {},
     "output_type": "execute_result"
    },
    {
     "data": {
      "image/png": "[encoded data removed]",
      "text/plain": [
       "<Figure size 720x720 with 2 Axes>"
      ]
     },
     "metadata": {
      "needs_background": "light"
     },
     "output_type": "display_data"
    }
   ],
   "source": [
    "fig, ax = plt.subplots(figsize = (10, 10))\n",
    "\n",
    "sns.heatmap(train.corr(), annot = True, ax = ax, fmt = '.2f')"
   ]
  },
  {
   "cell_type": "markdown",
   "metadata": {},
   "source": [
    "# 3. Machine learning modelling "
   ]
  },
  {
   "cell_type": "markdown",
   "metadata": {},
   "source": [
    "### 두가지 모델로 나눔\n",
    "#### 1) 이전의 smp 데이터를 바탕으로 다음 smp 예측\n",
    "#### 2) 기상 데이터 및 원유가격 데이터를 바탕으로 smp 예측"
   ]
  },
  {
   "cell_type": "markdown",
   "metadata": {},
   "source": [
    "## 1) keras LSTM "
   ]
  },
  {
   "cell_type": "markdown",
   "metadata": {},
   "source": [
    "### create Windows"
   ]
  },
  {
   "cell_type": "code",
   "execution_count": 21,
   "metadata": {},
   "outputs": [],
   "source": [
    "seq_len = 50\n",
    "seq_length = seq_len+1\n",
    "\n",
    "result = []\n",
    "for index in range(train.shape[0] - seq_length) :\n",
    "    result.append(train.iloc[index : index+seq_length, :])"
   ]
  },
  {
   "cell_type": "code",
   "execution_count": null,
   "metadata": {},
   "outputs": [],
   "source": []
  },
  {
   "cell_type": "code",
   "execution_count": null,
   "metadata": {},
   "outputs": [],
   "source": []
  }
 ],
 "metadata": {
  "kernelspec": {
   "display_name": "Python 3",
   "language": "python",
   "name": "python3"
  },
  "language_info": {
   "codemirror_mode": {
    "name": "ipython",
    "version": 3
   },
   "file_extension": ".py",
   "mimetype": "text/x-python",
   "name": "python",
   "nbconvert_exporter": "python",
   "pygments_lexer": "ipython3",
   "version": "3.8.2"
  }
 },
 "nbformat": 4,
 "nbformat_minor": 4
}
